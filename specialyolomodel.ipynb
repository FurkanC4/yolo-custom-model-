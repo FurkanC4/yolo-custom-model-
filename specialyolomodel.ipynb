{
 "cells": [
  {
   "cell_type": "code",
   "execution_count": null,
   "metadata": {},
   "outputs": [],
   "source": [
    "!nvidia-smi\n",
    "# for google colab cpu using."
   ]
  },
  {
   "cell_type": "code",
   "execution_count": null,
   "metadata": {},
   "outputs": [],
   "source": [
    "!pip install ultralytics\n",
    "!pip install roboflow"
   ]
  },
  {
   "cell_type": "code",
   "execution_count": null,
   "metadata": {
    "id": "leRpr6Y80waZ"
   },
   "outputs": [],
   "source": [
    "import ultralytics\n",
    "from roboflow import Roboflow\n",
    "from ultralytics import YOLO\n",
    "from IPython.display import Image\n"
   ]
  },
  {
   "cell_type": "code",
   "execution_count": null,
   "metadata": {
    "id": "wF7Q9MEEfEWW"
   },
   "outputs": [],
   "source": [
    "import ultralytics\n",
    "from roboflow import Roboflow\n",
    "from ultralytics import YOLO\n",
    "from IPython.display import Image"
   ]
  },
  {
   "cell_type": "code",
   "execution_count": null,
   "metadata": {},
   "outputs": [],
   "source": [
    "rf = Roboflow(api_key=\"yourapikey\")\n",
    "project = rf.workspace(\"workspace\").project(\"rfprojectname\")\n",
    "version = project.version(4)\n",
    "dataset = version.download(\"yoloversion\")\n"
   ]
  },
  {
   "cell_type": "code",
   "execution_count": null,
   "metadata": {},
   "outputs": [],
   "source": [
    "!yolo task=detect mode=train model=/content/yolov8s.pt data=your data.yaml path  epochs=15\n",
    "\n",
    "# you must increase epochs number for best result\n"
   ]
  },
  {
   "cell_type": "code",
   "execution_count": null,
   "metadata": {},
   "outputs": [],
   "source": [
    "Image(filename=f\"/content/runs/detect/train4/F1_curve.png\")\n",
    "\n",
    "# train graph"
   ]
  },
  {
   "cell_type": "code",
   "execution_count": null,
   "metadata": {
    "id": "JA8l2KVP4hHV"
   },
   "outputs": [],
   "source": [
    "!yolo task= detect mode = val model = /content/runs/detect/train4/weights/best.pt data=your data.yaml path\n",
    "\n",
    "#as yo can see best.pt. This is your special model. \n",
    "#If you download in your computer you can use every project and work. \n"
   ]
  },
  {
   "cell_type": "markdown",
   "metadata": {
    "id": "FuuIq26s4hFN"
   },
   "source": []
  },
  {
   "cell_type": "code",
   "execution_count": null,
   "metadata": {
    "id": "WTc0u5in4hCf"
   },
   "outputs": [],
   "source": []
  },
  {
   "cell_type": "code",
   "execution_count": null,
   "metadata": {
    "id": "OnZol-i74g_9"
   },
   "outputs": [],
   "source": []
  },
  {
   "cell_type": "code",
   "execution_count": null,
   "metadata": {
    "id": "TV_0T90n4g9n"
   },
   "outputs": [],
   "source": []
  }
 ],
 "metadata": {
  "accelerator": "GPU",
  "colab": {
   "gpuType": "T4",
   "provenance": []
  },
  "kernelspec": {
   "display_name": "Python 3 (ipykernel)",
   "language": "python",
   "name": "python3"
  },
  "language_info": {
   "codemirror_mode": {
    "name": "ipython",
    "version": 3
   },
   "file_extension": ".py",
   "mimetype": "text/x-python",
   "name": "python",
   "nbconvert_exporter": "python",
   "pygments_lexer": "ipython3",
   "version": "3.11.5"
  }
 },
 "nbformat": 4,
 "nbformat_minor": 1
}
